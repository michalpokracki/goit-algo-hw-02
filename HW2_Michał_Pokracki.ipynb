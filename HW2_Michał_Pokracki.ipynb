{
  "nbformat": 4,
  "nbformat_minor": 0,
  "metadata": {
    "colab": {
      "provenance": []
    },
    "kernelspec": {
      "name": "python3",
      "display_name": "Python 3"
    },
    "language_info": {
      "name": "python"
    }
  },
  "cells": [
    {
      "cell_type": "markdown",
      "source": [
        "# TASK 1"
      ],
      "metadata": {
        "id": "ChmIuv9xG0V_"
      }
    },
    {
      "cell_type": "code",
      "execution_count": 2,
      "metadata": {
        "colab": {
          "base_uri": "https://localhost:8080/"
        },
        "id": "QJO6hxR6fjeA",
        "outputId": "df0c7e90-5f31-4c4d-8ac7-c9f790cf2318"
      },
      "outputs": [
        {
          "name": "stdout",
          "output_type": "stream",
          "text": [
            "New request 8506 added to queue.\n",
            "Processing request 8506...\n",
            "Request 8506 processed.\n",
            "Enter 'q' to quit or any key to continue: f\n",
            "New request 8206 added to queue.\n",
            "Processing request 8206...\n",
            "Request 8206 processed.\n",
            "Enter 'q' to quit or any key to continue: q\n"
          ]
        }
      ],
      "source": [
        "from queue import Queue\n",
        "import random\n",
        "import time\n",
        "\n",
        "def generate_request(queue):\n",
        "    request_id = random.randint(1000, 9999)\n",
        "    queue.put(request_id)\n",
        "    print(f\"New request {request_id} added to queue.\")\n",
        "\n",
        "def process_request(queue):\n",
        "    if not queue.empty():\n",
        "        request_id = queue.get()\n",
        "        print(f\"Processing request {request_id}...\")\n",
        "        time.sleep(random.uniform(0.5, 2))\n",
        "        print(f\"Request {request_id} processed.\")\n",
        "    else:\n",
        "        print(\"Queue is empty.\")\n",
        "\n",
        "request_queue = Queue()\n",
        "\n",
        "while True:\n",
        "    generate_request(request_queue)\n",
        "    process_request(request_queue)\n",
        "    time.sleep(random.uniform(1, 3))\n",
        "\n",
        "    user_input = input(\"Enter 'q' to quit or any key to continue: \")\n",
        "    if user_input.lower() == 'q':\n",
        "        break\n"
      ]
    },
    {
      "cell_type": "markdown",
      "source": [
        "# TASK 2"
      ],
      "metadata": {
        "id": "VCvVuQGfG6pK"
      }
    },
    {
      "cell_type": "code",
      "source": [
        "from collections import deque\n",
        "\n",
        "def is_palindrome(input_string):\n",
        "    characters = deque(input_string.lower().replace(\" \", \"\"))\n",
        "\n",
        "    while len(characters) > 1:\n",
        "        if characters.popleft() != characters.pop():\n",
        "            return False\n",
        "\n",
        "    return True\n",
        "\n",
        "# Test cases\n",
        "print(is_palindrome(\"level\"))\n",
        "print(is_palindrome(\"A man a plan a canal Panama\"))\n",
        "print(is_palindrome(\"hello\"))\n"
      ],
      "metadata": {
        "colab": {
          "base_uri": "https://localhost:8080/"
        },
        "id": "bYvxWUsfG8vB",
        "outputId": "9b7903a9-e06c-49f2-c4d9-60fdecb0c481"
      },
      "execution_count": 1,
      "outputs": [
        {
          "output_type": "stream",
          "name": "stdout",
          "text": [
            "True\n",
            "True\n",
            "False\n"
          ]
        }
      ]
    }
  ]
}